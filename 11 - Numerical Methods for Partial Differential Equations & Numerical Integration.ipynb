{
 "cells": [
  {
   "cell_type": "markdown",
   "metadata": {},
   "source": [
    "# 11"
   ]
  },
  {
   "cell_type": "markdown",
   "metadata": {},
   "source": [
    "This final part considers solution of PDEs by finite difference approximations and integration rules, as discussed in the course. As usual we start with some initializations."
   ]
  },
  {
   "cell_type": "code",
   "execution_count": null,
   "metadata": {},
   "outputs": [],
   "source": [
    "import numpy as np\n",
    "import matplotlib as mpl\n",
    "from matplotlib import pyplot as plt\n",
    "from mpl_toolkits.mplot3d import Axes3D\n",
    "\n",
    "mpl.rcParams['figure.figsize'] = (5.0, 5.0)\n",
    "\n",
    "%matplotlib inline"
   ]
  },
  {
   "cell_type": "code",
   "execution_count": null,
   "metadata": {},
   "outputs": [],
   "source": [
    "'''\n",
    "\tPython3 program to store all the pairs while merging\n",
    "\tusing Merge Sort Algorithm\n",
    "\t\n",
    "'''\n",
    "\n",
    "# Function to perform merge sort\n",
    "# Time Complexity : O(N logN)\n",
    "# Space Complexity : O(N) + O(Number Of Pairs)\n",
    "def getPairsMerge(arr, l, r, mid, p):\n",
    "\t\n",
    "\tb = [0 for _ in range(l + r + 1)]\n",
    "\ti=l\n",
    "\tk=l\n",
    "\tj=mid+1;\n",
    "\twhile(i<=mid and j<=r):\n",
    "\t\tif(arr[i]>arr[j]):\n",
    "\t\t\tb[k]=arr[j];\n",
    "\t\t\tp.append([arr[i],arr[j]]);\n",
    "\t\t\t# p.append([arr[j],arr[i]]);\n",
    "\t\t\t# p.append([arr[j],arr[j]]);\n",
    "\t\t\tk+= 1;\n",
    "\t\t\tj+= 1;\n",
    "\t\t\n",
    "\t\telse:\n",
    "\t\t\tp.append([arr[i],arr[j]]);\n",
    "\t\t\t# p.append([arr[j],arr[i]]);\n",
    "\t\t\t# p.append([arr[i],arr[i]]);\n",
    "\t\t\tb[k]=arr[i];\n",
    "\t\t\ti+= 1;\n",
    "\t\t\tk+= 1;\n",
    "\t\t\n",
    "\t\n",
    "\n",
    "\twhile(i<=mid):\n",
    "\t\tb[k]=arr[i];\n",
    "\t\tp.append([arr[i],arr[i]]);\n",
    "\t\ti+= 1;\n",
    "\t\tk+= 1;\n",
    "\t\n",
    "\twhile(j<=r):\n",
    "\t\tb[k]=arr[j];\n",
    "\t\tp.append([arr[j],arr[j]]);\n",
    "\t\tj+= 1;\n",
    "\t\tk+= 1;\n",
    "\t\n",
    "\tfor x in range(l, r + 1):\n",
    "\t\tarr[x]=b[x];\n",
    "\t\n",
    "\n",
    "\n",
    "# Function to get all pairs\n",
    "def getAllPairs(arr, l, r, p):\n",
    "    \n",
    "\tif(l<r):\n",
    "\t\tmid=int((l+r)/2);\n",
    "\t\tgetAllPairs(arr,l,mid,p);\n",
    "\t\tgetAllPairs(arr,mid+1,r,p);\n",
    "\t\tgetPairsMerge(arr,l,r,mid,p);\n",
    "\n",
    "\n",
    "# Driver code\n",
    "\n",
    "lst = [-2, 4, 1, -3]\n",
    "n=len(lst);\n",
    "# arr = [0 for _ in range(n)]\n",
    "# arr[0] = 1;\n",
    "# arr[1] = 2;\n",
    "p = [];\n",
    "getAllPairs(lst,0,n-1,p);\n",
    "\n",
    "# Displaying the sorted pairs\n",
    "for it in p:\n",
    " #    J = []\n",
    "\t# J.append(it[0], it[1])\n",
    "\n",
    "\n",
    "# This code is contributed by phasing17\n",
    "\n",
    "\n",
    "\n",
    "# Test the code on the example list\n",
    "# print(find_pairs(lst))\n"
   ]
  },
  {
   "cell_type": "markdown",
   "metadata": {},
   "source": [
    "<div class=\"alert alert-info\">\n",
    "    \n",
    "## Numerical Solution of Laplace's Equation\n",
    "</div>"
   ]
  },
  {
   "cell_type": "markdown",
   "metadata": {},
   "source": [
    "In this exercise, we consider the Laplace equation on a unit square with corners at the four points $(0, 0)$, $(1, 0)$, $(0, 1)$, and $(1, 1)$:\n",
    "\\begin{equation}\n",
    "\\frac{\\partial^2 \\phi(x,y)}{\\partial x^2} + \\frac{\\partial^2 \\phi(x,y)}{\\partial y^2} = 0.\n",
    "\\end{equation}\n",
    "The boundary conditions are given as\n",
    "\\begin{eqnarray}\n",
    "\\phi(0,y) & = & y \\\\\n",
    "\\phi(1,y) & = & y \\\\\n",
    "\\phi(x,1) & = & 1.0 \\\\\n",
    "\\phi(x,0) & = & 0.0\n",
    "\\end{eqnarray}\n",
    "Note that the value of $\\phi$ on the west and east boundaries is given as a function of the $y$ coordinate. The value of $\\phi$ on these boundaries increases gradually from $0$ to $1$. "
   ]
  },
  {
   "cell_type": "markdown",
   "metadata": {},
   "source": [
    "<div class=\"alert alert-success\">\n",
    "\n",
    "**Task 1**: Implement the function `solve_Laplace` below to solve the PDF problem described above using finite difference approximations. \n",
    "\n",
    "Notes:\n",
    "\n",
    "- The function has two input arguments: `Nx` and `Ny` specifying the number of nodes used for the discretizations in $x$ and $y$ directions.\n",
    "- To approximate the derivatives, use central finite differences.\n",
    "- For this task, you will need an iterative solver. Use e.g. the Jacobi method. Make sure that your implementation takes advantage of the sparsity and runs efficiently for large linear systems.\n",
    "\n",
    "</div>"
   ]
  },
  {
   "cell_type": "code",
   "execution_count": null,
   "metadata": {},
   "outputs": [],
   "source": [
    "def solve_Laplace(Nx,Ny):\n",
    "    # Initialisierung vom Grid mit 0en und Erstellung der Grenzenbestimmungen\n",
    "    phi = np.zeros((Ny, Nx))#Gitter aufbauen\n",
    "    phi[:, 0] = np.linspace(0, 1, Ny)#Linke Grenze\n",
    "    phi[:, -1] = np.linspace(0, 1, Ny) #Rechte Grenze\n",
    "    phi[0,:] =0 # Obere Grenze\n",
    "    phi[-1,:] =1 # Untere Grenze\n",
    "    #Initialize das Alte für die Iterationen\n",
    "    old = np.zeros_like(phi)\n",
    "    #Iterationsparameter\n",
    "    tol = 0.00001  #Convergence Toleranz. Hier bisschen rumprobiert\n",
    "    max = 10000  #Maximale Iterationsmenge. Sorry an der Stelle aber mein Laptop kackt sonst ab\n",
    "    #Berechnung der Abstände der Grid points\n",
    "    xRichtung = 1.0 / (Nx - 1) #Abstand in x-Richtung\n",
    "    yRichtung = 1.0 / (Ny - 1) #Abstand in y-Richtung\n",
    "    xRichtung2, yRichtung2 = xRichtung*xRichtung, yRichtung*yRichtung #quadriere den Abstand\n",
    "    denominator = 2.0 * (xRichtung2 + yRichtung2)\n",
    "    #Jacobi, lineares System lösen. Know-how  -> https://www.google.com/search?q=jacobi+methode+was&client=firefox-b-d&sca_esv=d85953eb7f2d9eac&biw=643&bih=618&sxsrf=ACQVn08ZTnEHs1Z5tQ3dtcPCFsWRdvHDyA%3A1706733128420&ei=SK66ZbKgGeSH9u8PgqCtgAg&ved=0ahUKEwiy5OGuvIiEAxXkg_0HHQJQC4AQ4dUDCBA&uact=5&oq=jacobi+methode+was&gs_lp=Egxnd3Mtd2l6LXNlcnAiEmphY29iaSBtZXRob2RlIHdhczIHEAAYgAQYDTIHEAAYgAQYDTIGEAAYFhgeMgYQABgWGB4yBhAAGBYYHjIGEAAYFhgeMgYQABgWGB4yBhAAGBYYHjIIEAAYCBgeGA0yCBAAGAgYHhgNSK0SUO4CWPgPcAF4AJABAJgBtgSgAd0MqgELMC4xLjAuMS4wLjK4AQPIAQD4AQHCAgoQABhHGNYEGLADwgIHECMYsQIYJ8ICCxAAGIAEGIoFGJECwgIHEAAYgAQYCsICBxAjGLACGCfiAwQYACBBiAYBkAYI&sclient=gws-wiz-serp#fpstate=ive&vld=cid:ce7e3f5f,vid:0PnHodHs-qk,st:0\n",
    "    for durchlauf in range(max):\n",
    "        np.copyto(old, phi)  #Die alte zwischenspeichern für den chack nach konvergenzS\n",
    "        #loop über internen Gitterpunkt\n",
    "        for i in range(1, Nx - 1):\n",
    "            for j in range(1, Ny - 1):\n",
    "                #Update der Lösung an dem aktuellen Gitterpunkt\n",
    "                phi[j, i] = ((old[j, i + 1] + old[j, i - 1]) * yRichtung2 + (old[j + 1, i] + old[j - 1, i]) * xRichtung2) / denominator\n",
    "        #konvergenz check (L-infinity norm)\n",
    "        if np.linalg.norm(phi - old, np.inf) < tol:\n",
    "            break   \n",
    "    return phi"
   ]
  },
  {
   "cell_type": "code",
   "execution_count": null,
   "metadata": {},
   "outputs": [],
   "source": [
    "phi = solve_Laplace(50,50)"
   ]
  },
  {
   "cell_type": "markdown",
   "metadata": {},
   "source": [
    "<div class=\"alert alert-success\">\n",
    "\n",
    "**Task 2**: Visualize the solution obtained from the previous task using a contour plot. You may use the function `matplotlib.pyplot.contour` for this purpose.\n",
    "</div>"
   ]
  },
  {
   "cell_type": "code",
   "execution_count": null,
   "metadata": {},
   "outputs": [],
   "source": [
    "import matplotlib.pyplot as plt\n",
    "phi_2d = np.reshape(phi, (50,50)) # Überflüsig weils bereits so rauskommt.\n",
    "#Gitter fürs plotten\n",
    "x = np.linspace(0, 1, 50) #50, weil wir bei dem Methodenaufruf für phi 50,50 wählen. Array von 50 gleichmäßig verteilten Werten zwischen 0 und 1\n",
    "y = np.linspace(0, 1, 50)\n",
    "X, Y = np.meshgrid(x, y) #Erzeugt zwei zweidimensionale Arrays X und Y aus eindimensionalen Arrays x und y\n",
    "\n",
    "plt.figure(figsize=(8, 6))\n",
    "contour = plt.contour(X, Y, phi, cmap='jet', levels = 30) #Farbpalette einfach schön https://matplotlib.org/stable/users/explain/colors/colormaps.html\n",
    "plt.colorbar(contour)\n",
    "plt.xlim(0,1)\n",
    "plt.title('Contour plot')\n",
    "plt.xlabel('x')\n",
    "plt.ylabel('y')\n",
    "plt.show()"
   ]
  },
  {
   "cell_type": "markdown",
   "metadata": {},
   "source": [
    "- - -"
   ]
  },
  {
   "cell_type": "markdown",
   "metadata": {},
   "source": [
    "<div class=\"alert alert-info\">\n",
    "    \n",
    "## Numerical Integration\n",
    "</div>"
   ]
  },
  {
   "cell_type": "markdown",
   "metadata": {},
   "source": [
    "Consider the function\n",
    "\n",
    "$$\n",
    "f(x) = -x^4 + x^3 - \\frac{1}{20}.\n",
    "$$\n",
    "\n",
    "whose graph is the following:"
   ]
  },
  {
   "cell_type": "code",
   "execution_count": null,
   "metadata": {},
   "outputs": [],
   "source": [
    "def func(x):\n",
    "    return -x**4 + x**3 - 1/20\n",
    "\n",
    "x = np.linspace(0, 1)\n",
    "\n",
    "plt.plot(x, func(x));"
   ]
  },
  {
   "cell_type": "markdown",
   "metadata": {},
   "source": [
    "A typical problem for numerical quadrature is to compute e.g.\n",
    "\n",
    "$$ \n",
    "I = \\int_0^1 f(x) dx\n",
    "$$\n",
    "\n",
    "Before we proceed to numerical implementation, let's compute the integral analytically."
   ]
  },
  {
   "cell_type": "markdown",
   "metadata": {},
   "source": [
    "<div class=\"alert alert-success\">\n",
    "\n",
    "**Task 3**: Compute the value of $I$ analytically, either by hand, or using a symbolic math package (e.g. SymPy).\n",
    "</div>"
   ]
  },
  {
   "cell_type": "code",
   "execution_count": null,
   "metadata": {},
   "outputs": [],
   "source": [
    "from sympy import *\n",
    "\n",
    "print(integrate(func(Symbol('x')), (Symbol('x'), 0.0, 1.0)))"
   ]
  },
  {
   "cell_type": "raw",
   "metadata": {},
   "source": [
    "$$I = \\frac{f}{2}  $$ $$or$$\n",
    "\n",
    "$$I = \\left[-\\frac{x^5}{5}+\\frac{x^4}{4}-\\frac{x}{20}+C\\right]_0^1 =-\\frac{1}{5}+\\frac{1}{4}-\\frac{1}{20}+C - (0+C) = \\frac{-4+5-1}{20} = \\textbf{0} $$"
   ]
  },
  {
   "cell_type": "markdown",
   "metadata": {},
   "source": [
    "In the course, we have discussed several numerical integration formulas. Let's apply these to evaluate $I$ numerically."
   ]
  },
  {
   "cell_type": "markdown",
   "metadata": {},
   "source": [
    "<div class=\"alert alert-success\">\n",
    "    \n",
    "**Task 4:** Implement the functions below, corresponding to the midpoint, trapezoidal and Simpson's 1/3 rules as discussed in the course, and approximate $I$ using each of them. Note that each function takes the integration limits $a,b$ and number of sub-intervals $N$ as the inputs. Compare your results with the exact result from the previous task."
   ]
  },
  {
   "cell_type": "code",
   "execution_count": null,
   "metadata": {},
   "outputs": [],
   "source": [
    "def midpoint_rule(f, a, b,N):\n",
    "    \"\"\"evaluate midpoint rule to approximate integral of f over [a,b]\"\"\"\n",
    "    dx=(b-a)/N\n",
    "    A=0\n",
    "    x=dx/2\n",
    "    for i in range(N):\n",
    "      A+=f(x)*dx\n",
    "      x+=dx\n",
    "    return A\n",
    "\n",
    "def trapezoidal_rule(f, a, b,N):\n",
    "    \"\"\"evaluate trapezoidal rule to approximate integral of f over [a,b]\"\"\"\n",
    "    dx=(b-a)/N\n",
    "    A=0\n",
    "    x=0\n",
    "    for i in range(N):\n",
    "      A+=f(x)*dx+.5*dx*(f(x+dx)-f(x))\n",
    "      x+=dx\n",
    "    return A\n",
    "\n",
    "def simpson_1_3_rule(f, a, b,N):\n",
    "    \"\"\"evaluate Simpson's rule to approximate integral of f over [a,b]\"\"\"\n",
    "    dx = (b-a)/N # h\n",
    "    a1 = 0\n",
    "    a2 = 0\n",
    "    for k in range(1, N):\n",
    "        x = a + k * dx\n",
    "        if (k%2) == 0:\n",
    "            a2 += f(x) # when i is positive\n",
    "        else:\n",
    "            a1 += f(x) # when i is negative\n",
    "    A = dx / 6 * (f(a) + 4*a1 + 2*a2 + f(b))\n",
    "\n",
    "    return A\n",
    "\n",
    "\n",
    "# approximate I using all rules\n",
    "rules = {\n",
    "    'midpoint': midpoint_rule,\n",
    "    'trapezoidal': trapezoidal_rule,\n",
    "    'Simpson1/3': simpson_1_3_rule,\n",
    "}\n",
    "\n",
    "for name, rule in rules.items():\n",
    "    I = rule(func, 0, 1,20)\n",
    "    print('%s rule: I = %f' % (name, I))"
   ]
  },
  {
   "cell_type": "markdown",
   "metadata": {},
   "source": [
    "- - -"
   ]
  },
  {
   "cell_type": "markdown",
   "metadata": {},
   "source": [
    "<div class=\"alert alert-info\">\n",
    "\n",
    "## Monte-Carlo Integration\n",
    "</div>"
   ]
  },
  {
   "cell_type": "markdown",
   "metadata": {},
   "source": [
    "Monte-Carlo (MC) integration uses a non-deterministic approach to computing (multi-dimensional) integrals. The core idea is to transform an integral into an expectation value, i.e.\n",
    "\n",
    "$$\\int_{\\Omega} f(x) dx\\ = \\ \\frac{V}{N} \\sum_{i=1}^N f(X_i),$$\n",
    "\n",
    "where the $X_i$ are $N$ independent random points uniformly distributed on the domain of integration $\\Omega$, and $V$ is the volume of the domain of integration $\\Omega$. (Note that volume is used as a general term; for an interval $[a,b]$, the volume is its length $(b-a)$, for a two-dimensional domain, it is the area, and so on.)\n",
    "\n",
    "Let's look at a concrete example, computing the integral $I$ from the previous task. According to the above equation, we can write\n",
    "\n",
    "$$\\int_{0}^{1} f(x)dx\\ = \\ \\frac{1}{N} \\sum_{i=1}^N f(X_i),$$\n",
    "\n",
    "since $\\Omega = [0,1]$ is of length $1$. A little bit of experimentation gives:"
   ]
  },
  {
   "cell_type": "code",
   "execution_count": null,
   "metadata": {},
   "outputs": [],
   "source": [
    "def monte_carlo_1d(f, a, b, N):\n",
    "    \"\"\"approximate the integral of f over [a,b] using MC integration with N points\"\"\"\n",
    "    \n",
    "    # generate uniform random numbers in [a,b]\n",
    "    x = np.random.uniform(a, b, N)\n",
    "    return (b-a) * np.average(func(x))\n",
    "\n",
    "monte_carlo_1d(func, 0, 1, 10000)"
   ]
  },
  {
   "cell_type": "markdown",
   "metadata": {},
   "source": [
    "This is not too far away from the true value of $0.0$. However, executing the above cell several times gives a different result each time -- this is a consequence of relying on random numbers.\n",
    "\n",
    "Let's look at the approximation error as a function of $N$. Since the algorithm is non-deterministic, we perform the experiment 10 times, and plot each curve."
   ]
  },
  {
   "cell_type": "code",
   "execution_count": null,
   "metadata": {},
   "outputs": [],
   "source": [
    "N = 10**np.arange(1,6)\n",
    "\n",
    "for i in range(10):\n",
    "    err = [abs(monte_carlo_1d(func, 0, 1, n) - 0.0) for n in N]\n",
    "    plt.loglog(N, err, 'r-', alpha=0.5)\n",
    "\n",
    "plt.grid()"
   ]
  },
  {
   "cell_type": "markdown",
   "metadata": {},
   "source": [
    "As we can see, this looks somewhat noisy. The reason is the non-determinism of the Monte-Carlo method -- every time we run the algorithm, we get a different result, and sometimes even for large $N$ the result is far away from the actual value.\n",
    "\n",
    "While for low-dimensional integrals, quadrature formulas should be preferred, MC integration may be useful for medium- to high-dimensional problems. An obvious appeal is in the extremely straightforward manner in which the algorithm can be applied, without being intimately familiar with multi-dimensional integrals.\n",
    "\n",
    "Let's look at a typical problem used to illustrate MC integration: estimating the value of $\\pi$.\n",
    "\n",
    "Let $\\Omega = [-1,1]^2$ the square of area $4$ centered on the origin. Integrating the constant $1$-function over any domain simply gives its volume, hence\n",
    "\n",
    "$$\\int_\\Omega 1 dx \\ =\\ 4.$$\n",
    "\n",
    "Instead of the constant $1$ function, we integrate the **characteristic function** of the unit circle, i.e. the function\n",
    "\n",
    "$$\n",
    "\\chi_{\\text{circle}}(x) = \\begin{cases} 1 & ||x||_2 < 1 \\\\ 0 & \\text{otherwise} \\end{cases}\n",
    "$$\n",
    "\n",
    "that is one if $x$ is contained in the unit circle, and zero otherwise. Then, it should be that\n",
    "\n",
    "$$\n",
    "\\int_\\Omega \\chi_{\\text{circle}}(x) \\ =\\ \\pi,\n",
    "$$\n",
    "\n",
    "since the area of the unit circle is $\\pi$.\n",
    "\n",
    "Using a Monte-Carlo approximation, we find that\n",
    "\n",
    "$$\n",
    "\\pi\\ \\approx\\ \\frac{4}{N} \\sum_{i=1}^N \\chi_{\\text{circle}}(X_i),\n",
    "$$\n",
    "\n",
    "with random points $X_i$ that are independent and uniformly distributed in $[-1,1]^2$. Such a sequence of points can be obtained by drawing their coordinates $x_i$, $y_i$ independently from the uniform distribution on $[-1, 1]$. "
   ]
  },
  {
   "cell_type": "markdown",
   "metadata": {},
   "source": [
    "<div class=\"alert alert-success\">\n",
    "\n",
    "**Task 5**: Implement the function `mc_estimate_pi` below in the following manner:\n",
    "\n",
    "- generate `N` uniform points in $[-1,1]^2$ by generating $x_i,y_i$ uniformly in $[-1,1]$\n",
    "- for each point: count the number of points within the unit circle\n",
    "- return $4/N$ times this count\n",
    "\n",
    "Estimate $\\pi$ using 1.000 and 1.000.000 points.\n",
    "</div>\n"
   ]
  },
  {
   "cell_type": "code",
   "execution_count": null,
   "metadata": {},
   "outputs": [],
   "source": [
    "def mc_estimate_pi(N):\n",
    "    x=np.random.uniform(-1,1,N)\n",
    "    y=np.random.uniform(-1,1,N)\n",
    "    pi=0\n",
    "    for i in range(len(x)):\n",
    "      if np.linalg.norm(np.array([x[i],y[i]]))<1:\n",
    "        pi+=1\n",
    "    pi = 4/N * pi\n",
    "    return pi\n",
    "\n",
    "mc_estimate_pi(1000), mc_estimate_pi(1000000)"
   ]
  },
  {
   "cell_type": "markdown",
   "metadata": {},
   "source": [
    "We can visualize this in the following manner:"
   ]
  },
  {
   "cell_type": "code",
   "execution_count": null,
   "metadata": {},
   "outputs": [],
   "source": [
    "x = np.random.uniform(-1, 1, 10000)\n",
    "y = np.random.uniform(-1, 1, 10000)\n",
    "r2 = x**2 + y**2\n",
    "inside  = np.where(r2 < 1)\n",
    "outside = np.where(r2 >= 1)\n",
    "\n",
    "plt.figure(figsize=(5,5))\n",
    "plt.scatter( x[inside],  y[inside],  color='red',  s=2 )\n",
    "plt.scatter( x[outside], y[outside], color='blue', s=2 );"
   ]
  },
  {
   "cell_type": "markdown",
   "metadata": {},
   "source": [
    "So in essence, we are counting the fraction of red points relative to the overall number of points, and correct by a factor of $4$, the volume of $\\Omega$."
   ]
  }
 ],
 "metadata": {
  "kernelspec": {
   "display_name": "Python 3 (ipykernel)",
   "language": "python",
   "name": "python3"
  },
  "language_info": {
   "codemirror_mode": {
    "name": "ipython",
    "version": 3
   },
   "file_extension": ".py",
   "mimetype": "text/x-python",
   "name": "python",
   "nbconvert_exporter": "python",
   "pygments_lexer": "ipython3",
   "version": "3.10.12"
  }
 },
 "nbformat": 4,
 "nbformat_minor": 4
}
