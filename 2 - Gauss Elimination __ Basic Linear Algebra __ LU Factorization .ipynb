{
 "cells": [
  {
   "cell_type": "markdown",
   "metadata": {},
   "source": [
    "# 2\n",
    "\n",
    "The purpose of this homework is to get acquainted with the solution of linear systems using elementary methods. As a model problem, we will work with polynomial interpolation. We will also use this homework as an opportunity to examine and familiarize ourselves with the Numpy library for Python, which makes it extremely easy to work with arrays in general, and vectors and matrices in particular.\n",
    "\n",
    "- - -\n",
    "\n",
    "<div class=\"alert alert-info\">\n",
    "\n",
    "### NumPy and Linear Algebra in Python\n",
    "</div>\n",
    "\n",
    "There are several excellent sources of documentation for Numpy.\n",
    "\n",
    "<div class=\"alert alert-success\">\n",
    "    \n",
    "**Task 1:** Familiarize yourself with Numpy by reading the [quickstart tutorial](https://docs.scipy.org/doc/numpy/user/quickstart.html):\n",
    "- In particular, since we will be working with matrices (two-dimensional arrays), make sure you understand indexing and slicing.\n",
    "- Also, be aware of the semantics of assignments (view vs. copy), which is sometimes tricky for beginners. More [here](https://www.jessicayung.com/numpy-views-vs-copies-avoiding-costly-mistakes/) and [here](https://scipy-cookbook.readthedocs.io/items/ViewsVsCopies.html).\n",
    "</div>\n",
    "\n",
    "Let's get started by importing the relevant packages and doing some basic setup."
   ]
  },
  {
   "cell_type": "code",
   "execution_count": null,
   "metadata": {},
   "outputs": [],
   "source": [
    "import numpy as np              # basic arrays, vectors, matrices\n",
    "import numpy.linalg as la       # linear algebra functions\n",
    "import matplotlib.pyplot as plt # plotting\n",
    "\n",
    "%matplotlib inline"
   ]
  },
  {
   "cell_type": "markdown",
   "metadata": {},
   "source": [
    "- - -\n",
    "\n",
    "<div class=\"alert alert-info\">\n",
    "\n",
    "### Polynomial Interpolation\n",
    "</div>\n",
    "\n",
    "*Interpolation* refers to the process of extrapolating from discrete measurements to a continuous function. A model problem is for example to compute the continuous trajectory $x(t)$ of an object over time from discrete snapshots $(t_i,x_i)$. *Polynomial interpolation* specifically refers to describing the continuous function as a polynomial.\n",
    "\n",
    "Formally, the (one-dimensional) polynomial interpolation problem is described as follows: given a sequence of $n+1$ $x$-coordinates $(x_0,\\dots,x_n)$ with $x_i \\neq x_j$ if $i\\neq j$ and corresponding values $y_i \\in \\mathbb{R}$, determine a polynomial $p(x)$ of degree $n$ such that\n",
    "\n",
    "$$\n",
    "p(x_i)\\ =\\ a_n x_i^n + a_{n-1} x_i^{n-1} + \\cdots + a_1 x_i + a_0\\ \\stackrel{!}{=}\\ y_i,\\ \\ i=0,\\dots,n.\n",
    "$$\n",
    "\n",
    "This problem can be turned into a linear system, as follows:\n",
    "\n",
    "Let $v_i$ the vector of powers of $x_i$, i.e. \n",
    "\n",
    "$$v_i = (1, x_i, x_i^2, \\dots, x_i^n)^T,$$ \n",
    "\n",
    "and let $a = (a_0, a_1, \\dots, a_n)^T$ the vector of coefficients of $p$. Then, the interpolation condition $p(x_i) = y_i$ can be written as the scalar product of $v_i$ and $a$, since\n",
    "\n",
    "$$\n",
    "p(x_i)\\ =\\ a_n x_i^n + \\cdots + a_1 x_i + 1 \\cdot a_0 = \\ a^T v_i\\  \\stackrel{!}{=} y_i\n",
    "$$\n",
    "\n",
    "Repeating this for $i=0,\\dots,n$, we obtain a linear system for the coefficients:\n",
    "\n",
    "$$\n",
    "\\begin{pmatrix}\n",
    "1 & x_0 & x_0^2 & \\cdots & x_0^n \\\\\n",
    "1 & x_1 & x_1^2 & \\cdots & x_1^n \\\\\n",
    "1 & x_2 & x_2^2 & \\cdots & x_2^n \\\\\n",
    "\\vdots & \\vdots &\\vdots &\\vdots & \\\\\n",
    "1 & x_n & x_n^2 & \\cdots & x_n^n \\\\\n",
    "\\end{pmatrix}\n",
    "\\begin{pmatrix} a_0 \\\\ a_1 \\\\ a_2 \\\\ \\vdots \\\\ a_n\\end{pmatrix} =\n",
    "\\begin{pmatrix} y_0 \\\\ y_1 \\\\ y_2 \\\\ \\vdots \\\\ y_n\\end{pmatrix}\n",
    "\\qquad\n",
    "$$\n",
    "\n",
    "or briefly using matrix notation\n",
    "\n",
    "$$V a = y$$\n",
    "\n",
    "The $(n+1)\\times (n+1)$ system matrix $V$ with $V_{ij} = x_i^j$ is called a *Vandermonde matrix*. A solution of the corresponding system gives the coefficients $a$ of the polynomial $p$.\n",
    "\n",
    "Let's consider a specific problem instance: first, define NumPy arrays containing the data $x_i$ and $y_i$:"
   ]
  },
  {
   "cell_type": "code",
   "execution_count": null,
   "metadata": {},
   "outputs": [],
   "source": [
    "n = 4\n",
    "y = np.array( [3., 5, 2, 3, 1] )\n",
    "x = np.array( [0., 1, 2, 3, 4] )\n",
    "\n",
    "plt.plot( x, y, 'bo' );"
   ]
  },
  {
   "cell_type": "markdown",
   "metadata": {},
   "source": [
    "Graphically, our goal is to construct a polynomial of degree $4$ (since there are five points) that exactly passes through these points. \n",
    "\n",
    "(You have encountered this problem previously when constructing a line (= polynomial of degree one) given two points, or a parabola (= polynomial of degree two) that passes through three given points.\n",
    "\n",
    "We begin by constructing the Vandermonde system matrix for the $x_i$. Naively, we would write"
   ]
  },
  {
   "cell_type": "code",
   "execution_count": null,
   "metadata": {},
   "outputs": [],
   "source": [
    "V = np.empty( (n+1, n+1) )\n",
    "\n",
    "# directly fill in matrix entries\n",
    "for i in range(n+1):\n",
    "    for j in range(n+1):\n",
    "        V[i,j] = x[i]**j\n",
    "        \n",
    "V"
   ]
  },
  {
   "cell_type": "markdown",
   "metadata": {},
   "source": [
    "However, we can write this a little more compactly using a list comprehension:"
   ]
  },
  {
   "cell_type": "code",
   "execution_count": null,
   "metadata": {},
   "outputs": [],
   "source": [
    "# create a 2D array whose rows are the powers of x,\n",
    "# then transpose so the columns are the powers of x\n",
    "V = np.array( [x**p for p in range(n+1)] )\n",
    "V"
   ]
  },
  {
   "cell_type": "markdown",
   "metadata": {},
   "source": [
    "Even shorter: NumPy directly offers the [`vander`](https://docs.scipy.org/doc/numpy/reference/generated/numpy.vander.html) function for constructing $V$. By default, `vander` constructs the matrix such that the powers decrease along the rows of $V$; we thus need to pass `increasing=True` to match the order of $a$ we defined above."
   ]
  },
  {
   "cell_type": "code",
   "execution_count": null,
   "metadata": {
    "scrolled": true
   },
   "outputs": [],
   "source": [
    "V = np.vander( x, increasing=True )\n",
    "V"
   ]
  },
  {
   "cell_type": "markdown",
   "metadata": {},
   "source": [
    "Now we can solve the system $Va = y$ for $a$ to obtain the coefficients of the polynomial $p$."
   ]
  },
  {
   "cell_type": "markdown",
   "metadata": {},
   "source": [
    "- - -\n",
    "\n",
    "<div class=\"alert alert-info\">\n",
    "    \n",
    "### Gauss Elimination\n",
    "</div>\n",
    "\n",
    "As discussed in the lecture, the Gauss elimination algorithm can be used to solve the system above."
   ]
  },
  {
   "cell_type": "markdown",
   "metadata": {},
   "source": [
    "<div class=\"alert alert-success\">\n",
    "    \n",
    "**Task 2:** Implement the Gauss algorithm (without pivoting) in two steps through the below functions:\n",
    "- `bwd_subs` should perform backward substitution to solve an upper tridiagonal system\n",
    "- `gauss_solve` should reduce the extended matrix $(A,b)$ to upper tridiagonal form via Gauss elimination, and then use `bwd_subs` to solve the system\n",
    "- It is always sensible to think about ways to validate your implementations, e.g. check that `bwd_subs` does the right thing.\n",
    "- Note that while indices of matrix rows etc. start at $1$ in standard mathematical notation (and hence in the slides), NumPy indices begin at $0$.\n",
    "</div>"
   ]
  },
  {
   "cell_type": "code",
   "execution_count": null,
   "metadata": {},
   "outputs": [],
   "source": []
  },
  {
   "cell_type": "code",
   "execution_count": null,
   "metadata": {},
   "outputs": [],
   "source": [
    "\"\"\"\n",
    "U (list of lists): Upper triangular matrix.\n",
    "y (list): Right-hand side vector.\n",
    "https://wichit2s.gitlab.io/numer/ch02/index.html#back-substitution-in-python ; Title: 2.12. Back Substitution in Python; 12.11.2023.\n",
    "\"\"\"\n",
    "def bwd_subs( U, y ):\n",
    "    n = len(U)\n",
    "# To ensure that the matrix is constructed like seen in the output below this cell.\n",
    "    sol = np.empty_like(y, dtype=float)\n",
    "# range(start, until, steps) iterates over.\n",
    "    for i in range(n-1, -1, -1):\n",
    "        sol[i] = (y[i] - np.dot(U[i,i+1:n], sol[i+1:n]))/U[i,i]# sol[i] = (y[i] - np.dot(U[i, i+1:], sol[i+1:, i])) / U[i, i]\n",
    "    return sol\n",
    "\n",
    "\n",
    "\n",
    "'''\n",
    "Reduce matrix (A,b) to upper tridiagonal form via Gauss elimination, then use bwd_subs to solve.\n",
    "Idea: make the diagonal element (U[i][i]) equal to 1 by dividing the entire row by that element.\n",
    "Inspiration https://stackoverflow.com/questions/58615531/gaussian-elimination-no-pivoting\n",
    "'''\n",
    "def gauss_solve( V, y ):\n",
    "# We can: exchange two rows/ columns, add /substract multiple of one row to/from another row.\n",
    "    assert len(V) == len(y), \"Dimensions of U and y must be the same\"\n",
    "    n = len(y)\n",
    "    y = np.array(y)\n",
    "\n",
    "    for row in range(n):\n",
    "        for i in range(row + 1, n):\n",
    "            fac = V[i, row] / V[row, row]  # Use integer division here\n",
    "            V[i, row:] = V[i, row:]- (fac * V[row, row:])\n",
    "            y[i] = y[i] - (fac * y[row])\n",
    "    ret = bwd_subs(V, y) # np.hstack() bringt hier nichts, weil die Ausgabe 1D ist.\n",
    "    return ret\n",
    "\n",
    "# Example from the lecture. Page 42.\n",
    "ü = np.array([[4, 2, 2], # (3,3) shape\n",
    "     [0, -16, -4],\n",
    "     [0, 0, 2]])\n",
    "\n",
    "ä = np.array([10, -24, 4]) # (3,) shape\n",
    "\n",
    "z = np.array([[4, 2, 2],\n",
    "     [8, -12, 0],\n",
    "     [-4, 14, 4]])\n",
    "\n",
    "o = np.array([10, -4, 18])\n",
    "\n",
    "v = np.array([1, 1, 2, 3, 5, 8, 13, 21]) # (8,) shape\n",
    "\n",
    "print (\"Output:\", bwd_subs(ü, ä), '\\n')\n",
    "# On the left the known solution and on the right the output. Gives Boolean back.\n",
    "print (\"The solution is\", [1,1,2] == bwd_subs(ü, ä), '\\n')\n",
    "\n",
    "#Tests für den Gaußalgo\n",
    "print(gauss_solve(ü, ä), '\\n')\n",
    "print(gauss_solve(z, o), '\\n')\n",
    "\n",
    "print(np.shape(z), '\\n')\n",
    "\n",
    "print(np.shape(gauss_solve(z, o)), '\\n')\n",
    "\n",
    "print(np.shape(ä))\n",
    "\n",
    "print(np.shape(v))\n"
   ]
  },
  {
   "cell_type": "markdown",
   "metadata": {},
   "source": [
    "Let's apply this to our problem and validate the solution graphically. NumPy conveniently provides the [`polyval`](https://docs.scipy.org/doc/numpy/reference/generated/numpy.polyval.html) function to evaluate the found polynomial. \n",
    "\n",
    "A potential showstopper is that `polyval` requires as input the coefficients in descending order (i.e. `a[0]` as the coefficient of $x^n$), while we compute them in ascending order (`a[n]` is the coefficient of $x^n$). This is however easily remedied using NumPy's [`flip`](https://docs.scipy.org/doc/numpy/reference/generated/numpy.flip.html?highlight=flip#numpy.flip) function."
   ]
  },
  {
   "cell_type": "code",
   "execution_count": null,
   "metadata": {
    "scrolled": true
   },
   "outputs": [],
   "source": [
    "a = gauss_solve( V, y )\n",
    "\n",
    "# plot output\n",
    "xx = np.linspace( x.min(), x.max(), 1000 )\n",
    "yy = np.polyval( np.flip(a), xx )\n",
    "\n",
    "plt.plot( xx, yy, 'r-', x, y, 'bo' );"
   ]
  },
  {
   "cell_type": "markdown",
   "metadata": {},
   "source": [
    "Problem solved! (... if you completed task 2.)"
   ]
  },
  {
   "cell_type": "markdown",
   "metadata": {},
   "source": [
    "- - -\n",
    "\n",
    "<div class=\"alert alert-info\">\n",
    "    \n",
    "### LU Decomposition\n",
    "</div>\n",
    "\n",
    "While Gauss elimination works well for a small number of points, for a large number of points it does not work well. Let's look at a larger problem instance:"
   ]
  },
  {
   "cell_type": "code",
   "execution_count": null,
   "metadata": {},
   "outputs": [],
   "source": [
    "n = 50\n",
    "x = np.linspace( -1, 1, n )\n",
    "y = np.cos( 15*x**2 )\n",
    "\n",
    "# set up system matrix\n",
    "V = np.vander( x, increasing=True )\n",
    "a = gauss_solve( V, y )\n",
    "\n",
    "# plot output\n",
    "xx = np.linspace( x.min(), x.max(), 100 )\n",
    "yy = np.polyval( np.flip(a), xx )\n",
    "\n",
    "plt.plot( xx, yy, 'r-', x, y, 'bo' );"
   ]
  },
  {
   "cell_type": "markdown",
   "metadata": {},
   "source": [
    "This does not look entirely right. In order to quantify the error, we can compute the norm of the *residual* vector: \n",
    "\n",
    "$$r := y - Va $$"
   ]
  },
  {
   "cell_type": "code",
   "execution_count": null,
   "metadata": {},
   "outputs": [],
   "source": [
    "la.norm(y- np.matmul(V, a))"
   ]
  },
  {
   "cell_type": "markdown",
   "metadata": {},
   "source": [
    "and see that it is not actually small. \n",
    "\n",
    "The reason that the residual is so large lies in the ill-conditioned nature of the system matrix. NumPy gives us an easy way to compute the condition number of the system matrix, which indicates how much small errors are amplified when solving the system:"
   ]
  },
  {
   "cell_type": "code",
   "execution_count": null,
   "metadata": {},
   "outputs": [],
   "source": [
    "la.cond( V )"
   ]
  },
  {
   "cell_type": "markdown",
   "metadata": {},
   "source": [
    "That is a big number. While the Gauss algorithm works well for well-conditioned problems, it is not stable enough to address severely ill-conditioned problems; hence it does not work well here.\n",
    "\n",
    "**Aside**: It is easy to see that the condition number increases rapidly with $n$:"
   ]
  },
  {
   "cell_type": "code",
   "execution_count": null,
   "metadata": {},
   "outputs": [],
   "source": [
    "plt.plot( [np.log10(la.cond(np.vander(np.linspace(0,1,n)))) for n in range(1,20)] );"
   ]
  },
  {
   "cell_type": "markdown",
   "metadata": {},
   "source": [
    "As the number of points increases, the columns of the Vandermonde matrix become more and more similar and thus less and less linear independent; for 10 points, the condition number is already $\\approx 10^8$. In a sense, the system becomes more and more difficult to solve, leading to increasing problems in the application of numerical techniques. (This is quite typical behavior for many important numerical problems / techniques.)\n",
    "\n",
    "To remedy this, let's apply the LU decomposition with partial pivoting to solve this system. The purpose of the pivoting is to increase the numerical stability of the algorithm.\n",
    "\n",
    "Here is a slightly simpler algorithm for the LU decomposition than the one discussed in the lecture. It decomposes $PA = LU$ and does not detect singular $A$, but is easier to implement:\n",
    "\n",
    "- - -\n",
    "    \n",
    "Input $A \\in \\mathbb{R}^{n \\times n}$; Output $P,L,U$ such that $PA = LU$.\n",
    "\n",
    "Let $U = I_n, L = I_n, P = I_n$ with $I_n$ being the identity matrix of dimension $n \\times n$.\n",
    "\n",
    "For $k = 1, \\ldots, n$:\n",
    "- find $k \\leq i \\leq n$ to maximize $|A_{ik}|$\n",
    "- exchange rows $k$ and $i$ of $P$\n",
    "\n",
    "Let $A' = P \\cdot A$.\n",
    "\n",
    "For $j = 1, \\ldots, n$:\n",
    "- For $i = 1, \\ldots, j$: $U_{ij} = A'_{ij} - \\sum\\limits_{k=1}^{i-1}{U_{kj}L_{ik}}$\n",
    "- For $i = j, \\ldots, n$: $L_{ij} = \\frac{1}{U_{jj}} \\left(A'_{ij} - \\sum\\limits_{k=1}^{j-1}{U_{kj}L_{ik}}\\right)$\n",
    "\n",
    "- - -\n",
    "\n",
    "<div class=\"alert alert-success\">\n",
    "\n",
    "**Task 3**: implement the routines `lu_factor`, `fwd_subs` and `lu_solve` below using the approach given above.\n",
    "\n",
    "</div>"
   ]
  },
  {
   "cell_type": "code",
   "execution_count": null,
   "metadata": {},
   "outputs": [],
   "source": [
    "def lu_factor(A):\n",
    "    \"\"\"Perform an LU decomposition PA = LU with partial pivoting of the square matrix A.\"\"\"\n",
    "    \n",
    "    n = A.shape[0]\n",
    "    AA = np.copy(A) # just a copy of the given matrix. we just use it to check down if PA=LU\n",
    "\n",
    "    P = np.identity(n)\n",
    "    U = np.identity(n)\n",
    "    L = np.identity(n)\n",
    "    \n",
    "    for k in range(n):\n",
    "        # Here we find row i to maximize |A_ik|.\n",
    "        # it does that by taking the k-th row in the column that has the highest absolute value (with np.abs)\n",
    "        # np.argmax then gets the index of that highest value, and we and k (+k on the right) to get the right index(given that we started at the k-th row)\n",
    "        i_row = np.argmax(np.abs(A[k:, k])) + k\n",
    "        \n",
    "        if i_row != k: #It might happen that the current row in column k already has the max value, and is as such equal to i_row. In that case we do nothing.\n",
    "            P[[k, i_row]] = P[[i_row, k]] # we exchange rows k and i of matrix P\n",
    "            \n",
    "    A_prime = P@A\n",
    "    \n",
    "    # the exact algorithm in the previous cell\n",
    "    for j in range(n):\n",
    "        for i in range(j+1):\n",
    "            U[i, j] = A_prime[i, j] - sum(U[k, j] * L[i, k] for k in range(i))\n",
    "            \n",
    "        for i in range(j, n):\n",
    "            L[i, j] = (1/(U[j, j])) * (A_prime[i, j] - sum(U[k, j] * L[i, k] for k in range(j)))\n",
    "\n",
    "#     print(P@AA, np.all(P@AA== L@U), '\\n') #print out PA and testing if it is in fact equal to LU\n",
    "#     print(P@L@U) # printing PLU to see if it is equal to A\n",
    "    \n",
    "    return P, L, U\n",
    "\n",
    "def fwd_subs( L, b ):\n",
    "    \"\"\"Solve the linear system Ly = b with lower triangular matrix L by forward substitution.\"\"\"\n",
    "    y = np.empty_like(b) \n",
    "    \n",
    "    n = len(L) #we get the length of L\n",
    "    \n",
    "    for i in range(n): \n",
    "        y[i] = (b[i] - (L[i, :i])@(y[:i])) / L[i, i] # works like bwd_subs, but multiplies the matrices from their first columns up till, but not including the i-th column.\n",
    "            \n",
    "    return y\n",
    "\n",
    "def lu_solve(P, L, U, b):\n",
    "    \"\"\"Solve the linear system Ax = b with upper/lower triangular matrices U, L and\n",
    "       permutation matrix P.\"\"\"\n",
    "#     print(U)\n",
    "#     print('\\n and np.triu(U) is \\n')\n",
    "#     print(np.triu(U))\n",
    "    assert np.all(U == np.triu(U)) # ensure U is upper triangular.  \n",
    "    #...\n",
    "\n",
    "    c = fwd_subs(L, (P@b)) # solve for c using forward substitution and the lower triangular matrix.\n",
    "    x = bwd_subs(U, c) # solve for x using c and the upper triangular matrix.    \n",
    "\n",
    "    return x"
   ]
  },
  {
   "cell_type": "code",
   "execution_count": null,
   "metadata": {},
   "outputs": [],
   "source": [
    "# N = np.vander([1,2,3,4], increasing=True)\n",
    "# M = np.vander([3,4,5,6], increasing=True)\n",
    "\n",
    "# N = np.array([[1,0,0],[1,1,0],[1,1,1]])\n",
    "# M = np.vander([1,1,1])\n",
    "# print(np.triu(N))\n",
    "# print(M)\n",
    "\n",
    "# print(np.eye(len(N)))\n",
    "\n",
    "# temp = np.copy(N[1, :])\n",
    "# N[1, :] = M[1, :]\n",
    "# M[1, :] = temp\n",
    "\n",
    "# N[[1, 2]] = N[[2, 1]]\n",
    "\n",
    "\n",
    "# M[[1, 2]] = M[[2, 1]]\n",
    "# print(M, '\\n')\n",
    "\n",
    "# for k in range(len(M)):\n",
    "#     i_row = np.argmax(np.abs(M[k:, k])) + k\n",
    "#     print(k, i_row)\n",
    "# #     if i_row != k:\n",
    "#     print('replace', M[k, :], 'by', M[i_row, :])\n",
    "#     M[[k, i_row]] = M[[i_row, k]]\n",
    "    \n",
    "    \n",
    "#     temp = np.copy(M[k, :])\n",
    "#     M[k, :] = M[i_row, :]\n",
    "#     M[i_row, :] = temp\n",
    "# max = np.argmax(np.abs(M[2:, 2]))\n",
    "\n",
    "# print(N, '\\n')\n",
    "# print(M, '\\n')\n",
    "# print(np.argmax(M[3:, 3]))\n",
    "# for j in range (4):\n",
    "#     for i in range(j):\n",
    "#         print(i, 'i1')\n",
    "#     for i in range(j, 4):\n",
    "#         print(i, 'i2')\n",
    "\n",
    "\n",
    "# print(N.shape, '\\n') \n",
    "# M = np.identity(N.shape[0])\n",
    "# print(M, '\\n')\n",
    "# Y = np.linalg.inv(N)\n",
    "# print(Y, '\\n')\n",
    "# print(N@Y)\n",
    "\n",
    "# N = np.array([[4, 2, 4],\n",
    "#              [8, -12, 0],\n",
    "#              [-4, 14, 4]])\n",
    "\n",
    "# print(N, '\\n')\n",
    "# print(np.triu(M))\n",
    "\n",
    "# print(lu_factor(N))"
   ]
  },
  {
   "cell_type": "markdown",
   "metadata": {},
   "source": [
    "Let's apply this to our problem:"
   ]
  },
  {
   "cell_type": "code",
   "execution_count": null,
   "metadata": {},
   "outputs": [],
   "source": [
    "n = 50\n",
    "x = np.linspace( -1, 1, n )\n",
    "y = np.cos( 15*x**2 )\n",
    "\n",
    "V = np.vander( x, increasing=True )\n",
    "\n",
    "P,L,U = lu_factor(V)\n",
    "a = lu_solve(P,L,U,y)\n",
    "\n",
    "print( \"residual = \", la.norm( y- np.matmul(V, a)) )\n",
    "\n",
    "# plot output\n",
    "xx = np.linspace( x.min(), x.max(), 200 )\n",
    "yy = np.polyval( np.flip(a), xx )\n",
    "\n",
    "plt.plot( xx, yy, 'r-', x, y, 'bo' );"
   ]
  },
  {
   "cell_type": "markdown",
   "metadata": {},
   "source": [
    "- - - \n",
    "\n",
    "<div class=\"alert alert-info\">\n",
    "\n",
    "### Microbenchmarks\n",
    "</div>\n",
    "\n",
    "Beyond numerical stability from pivoting, the LU decomposition also has one other advantage: the elimination work is captured in $L$ and $U$ and does not have to be repeated if the same linear system must be solved repeatedly for different right-hand sides.\n",
    "\n",
    "This is a good opportunity to use a *microbenchmark* to quickly get an idea whether this is true in practice. Let's create one using Jupyter's [`%%timeit`](https://ipython.readthedocs.io/en/stable/interactive/magics.html#magic-timeit) magic that measures the runtime of a single cell. First, set up a test problem, using again polynomial interpolation:"
   ]
  },
  {
   "cell_type": "code",
   "execution_count": null,
   "metadata": {},
   "outputs": [],
   "source": [
    "n = 40\n",
    "x = np.linspace( 0, 1, n )\n",
    "\n",
    "# set up the system matrix\n",
    "V = np.vander( x, increasing=True )\n",
    "\n",
    "# create m random right-hand sides\n",
    "m = 500\n",
    "y = np.random.random(size=(m,n))"
   ]
  },
  {
   "cell_type": "markdown",
   "metadata": {},
   "source": [
    "Now, we can measure the time required to do one decomposition and $m$ solutions:"
   ]
  },
  {
   "cell_type": "code",
   "execution_count": null,
   "metadata": {},
   "outputs": [],
   "source": [
    "%%timeit\n",
    "\n",
    "P,L,U = lu_factor(V)\n",
    "for b in y:\n",
    "    a = lu_solve(P,L,U, b)"
   ]
  },
  {
   "cell_type": "markdown",
   "metadata": {},
   "source": [
    "<div class=\"alert alert-success\">\n",
    "\n",
    "**Task 4**: create a microbenchmark that uses `gauss_solve` to solve the system for each right-hand side.\n",
    "</div>"
   ]
  },
  {
   "cell_type": "code",
   "execution_count": null,
   "metadata": {},
   "outputs": [],
   "source": [
    "%%timeit\n",
    "\n",
    "for b in y:\n",
    "    gauss_solve(V, b) #given that gauss_solve takes in the raw matrix, V, we don't need to decompose it into P, L and U.\n",
    "                      #we simply feed in the matrix, V, and use %%timeit to record the time it takes to solve the linear system for each 40 right-hand sides, b.\n",
    "                      \n",
    "                      #That takes considerably longer, given the expensive calculations that gauss_solve has to do (O(n^3) instead of O(n^2))"
   ]
  },
  {
   "cell_type": "markdown",
   "metadata": {},
   "source": [
    "Depending on your implementation, the LU decomposition should be significantly faster on this particular problem.\n",
    "\n",
    "Note: this is not a rigorous benchmark; it may be influenced by many factors such as overall system load etc. However, `%%timeit` can be useful to get a quick idea of execution time. (See the [documentation](https://ipython.readthedocs.io/en/stable/interactive/magics.html#magic-timeit) for more info.)\n",
    "\n",
    "**Concluding remark**: While it was instructive for the purposes of this homework to implement Gauss elimination and LU decomposition by ourselves, for real-world use, NumPy's linear algebra module offers the routine [`numpy.linalg.solve`](https://docs.scipy.org/doc/numpy/reference/generated/numpy.linalg.solve.html), which is a state-of-the-art linear system solver with many tricks to improve numerical stability. Furthermore, the `scipy` module contains implementations of the LU(P) decomposition (cf. [`scipy.linalg.lu`](https://docs.scipy.org/doc/scipy-0.14.0/reference/generated/scipy.linalg.lu.html))."
   ]
  },
  {
   "cell_type": "markdown",
   "metadata": {},
   "source": [
    "- - -\n",
    "\n",
    "<div class=\"alert alert-info\">\n",
    "    \n",
    "### Going to Space\n",
    "</div>"
   ]
  },
  {
   "cell_type": "markdown",
   "metadata": {},
   "source": [
    "So far, we have used polynomial interpolation only for one-dimensional function graphs of the form $y=p(x)$. However, the basic methodology carries easily to interpolating a curve in $n$ dimensions (e.g. in two dimensions).\n",
    "\n",
    "We start from a modified basic setup: given $t_0,\\dots,t_n$ and $x_0,\\dots,x_n \\in \\mathbb{R}^d$, find the vector-valued polyomial $p(x)$ of degree $n+1$ such that \n",
    "\n",
    "$$p(t_i) = x_i.$$\n",
    "\n",
    "It can be easily recognizes that this can be solved by finding $d$ separate one-dimensional (i.e. real-valued) polynomials $p_1,\\dots,p_d$, each of degree $n+1$, for each of the $d$ components of the $x_i$. \n",
    "\n",
    "The following routine accomplishes this in the two-dimensional case, where `x` and `y` are arrays of coordinates of the interpolation points in the plane, and `t` is the array of the $t_i$ above."
   ]
  },
  {
   "cell_type": "code",
   "execution_count": null,
   "metadata": {},
   "outputs": [],
   "source": [
    "def poly2D(t, x, y):\n",
    "    return np.linalg.solve( \n",
    "        np.vander( t, increasing=True ), \n",
    "        np.stack([x,y]).transpose() \n",
    "    )"
   ]
  },
  {
   "cell_type": "markdown",
   "metadata": {},
   "source": [
    "Let's put this to the test:"
   ]
  },
  {
   "cell_type": "code",
   "execution_count": null,
   "metadata": {},
   "outputs": [],
   "source": [
    "n = 20\n",
    "t = np.linspace(0, 12, n)\n",
    "x = (3+t) * np.cos( t )\n",
    "y = (3+t) * np.sin( t )\n",
    "\n",
    "a = poly2D( t, x, y )\n",
    "\n",
    "# plot output\n",
    "tt = np.linspace( t.min(), t.max(), 200 )\n",
    "xx = np.polyval( np.flip(a[:,0]), tt )\n",
    "yy = np.polyval( np.flip(a[:,1]), tt )\n",
    "\n",
    "plt.plot( x, y, 'bo', xx, yy, 'r-' )\n",
    "plt.axis(\"equal\");"
   ]
  },
  {
   "cell_type": "markdown",
   "metadata": {},
   "source": [
    "<div class=\"alert alert-success\">\n",
    "\n",
    "**Task 5**: Implement a function `poly3D`, by generalizing `poly2D` above to the three-dimensional case.\n",
    "</div>"
   ]
  },
  {
   "cell_type": "code",
   "execution_count": null,
   "metadata": {},
   "outputs": [],
   "source": [
    "# def poly3D(t, x, y, z):\n",
    "#     # TODO\n",
    "#     return np.empty_like(t)\n",
    "\n",
    "def poly3D(t, x, y, z):\n",
    "    return np.linalg.solve( \n",
    "        np.vander( t, increasing=True ),      # setting up the Vandermonde matrix\n",
    "        np.stack([x,y,z]).transpose()         # stacking the arrays along the three axes\n",
    "    )"
   ]
  },
  {
   "cell_type": "markdown",
   "metadata": {},
   "source": [
    "<div class=\"alert alert-success\">\n",
    "\n",
    "**Task 6**: Illustrate the correctness of `poly3D` on a model problem similar to the one for `poly2D` above.\n",
    "\n",
    "Notes: \n",
    "- To show the curve, you will have to use matplotlib's 3D plotting module. Documentation can be found [here](https://matplotlib.org/mpl_toolkits/mplot3d/tutorial.html), and a short tutorial is [here](https://towardsdatascience.com/an-easy-introduction-to-3d-plotting-with-matplotlib-801561999725).\n",
    "- Using matplotlib's notebook mode (triggered by `%matplotlib notebook`) will give you a nice, interactively rotatable plot. Try it out!\n",
    "</div>"
   ]
  },
  {
   "cell_type": "code",
   "execution_count": null,
   "metadata": {
    "scrolled": true
   },
   "outputs": [],
   "source": [
    "%matplotlib notebook     \n",
    "# importing the notebook mode for the rotable plot\n",
    "\n",
    "n = 20                     # number of points in the final plot\n",
    "t = np.linspace(0, 12, n)\n",
    "x = (3+t) * np.cos( t )    # setting up the formula for the points\n",
    "y = (3+t) * np.sin( t )\n",
    "z = (3+t) * np.sin( t )    # alternatively: z = (3+t) * np.cos( t ) for a different orientation in the 3d room\n",
    "\n",
    "a = poly3D( t, x, y, z)    # using the poly3D function from task 5\n",
    "\n",
    "# plot output\n",
    "tt = np.linspace( t.min(), t.max(), 200 )   # setting up the lines, connecting the points\n",
    "xx = np.polyval( np.flip(a[:,0]), tt )\n",
    "yy = np.polyval( np.flip(a[:,1]), tt )\n",
    "zz = np.polyval( np.flip(a[:,1]), tt ) # alternatively: zz = np.polyval( np.flip(a[:,1]), tt ), if one uses cos instead\n",
    "\n",
    "\n",
    "ax = plt.axes(projection=\"3d\")              # initializing the 3d coordinate system\n",
    "ax.scatter3D(x, y, z, c=z, cmap='hsv')      # adding the points\n",
    "ax.plot3D(xx, yy, zz)                       # adding the line\n",
    "plt.show()"
   ]
  },
  {
   "cell_type": "code",
   "execution_count": null,
   "metadata": {},
   "outputs": [],
   "source": []
  }
 ],
 "metadata": {
  "kernelspec": {
   "display_name": "Python 3 (ipykernel)",
   "language": "python",
   "name": "python3"
  },
  "language_info": {
   "codemirror_mode": {
    "name": "ipython",
    "version": 3
   },
   "file_extension": ".py",
   "mimetype": "text/x-python",
   "name": "python",
   "nbconvert_exporter": "python",
   "pygments_lexer": "ipython3",
   "version": "3.10.12"
  }
 },
 "nbformat": 4,
 "nbformat_minor": 4
}
