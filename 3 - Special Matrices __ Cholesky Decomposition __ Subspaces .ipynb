{
 "cells": [
  {
   "cell_type": "markdown",
   "metadata": {},
   "source": [
    "# 3\n",
    "\n",
    "This homework is designed to help you get more comfortable with two- and three-dimensional linear transformations through visualization. Furthermore, we will consider the Cholesky decomposition for symmetric positive definite linear systems.\n",
    "Let's get initialization out of the way, and then proceed."
   ]
  },
  {
   "cell_type": "code",
   "execution_count": null,
   "metadata": {},
   "outputs": [],
   "source": [
    "import numpy as np\n",
    "import scipy.linalg\n",
    "\n",
    "import matplotlib.pyplot as plt         # plotting\n",
    "import matplotlib.collections as clt    # plotting\n",
    "from mpl_toolkits.mplot3d import Axes3D # 3D plotting\n",
    "\n",
    "%matplotlib inline\n",
    "\n",
    "from IPython.core.display import HTML\n",
    "HTML(\"\"\"<style>.output_png { display: table-cell; text-align: center; vertical-align: middle; }</style>\"\"\");"
   ]
  },
  {
   "cell_type": "markdown",
   "metadata": {},
   "source": [
    "- - -"
   ]
  },
  {
   "cell_type": "markdown",
   "metadata": {},
   "source": [
    "<div class=\"alert alert-info\">\n",
    "\n",
    "### Visualizing Transforms\n",
    "</div>"
   ]
  },
  {
   "cell_type": "markdown",
   "metadata": {},
   "source": [
    "A simple way to visualize linear transforms over two-dimensional or three-dimensional spaces is to consider their effect on a known geometry, e.g. a square, cube, circle, or sphere. Furthermore, depicting the images of basis vectors can also be helpful.\n",
    "\n",
    "<div class=\"alert alert-success\">\n",
    "\n",
    "**Task 1:** Modify the function `visualize_transform_2d` below such that it draws the transformed rectangle and basis vectors corresponding to the matrix argument `M`.\n",
    "</div>"
   ]
  },
  {
   "cell_type": "code",
   "execution_count": null,
   "metadata": {},
   "outputs": [],
   "source": [
    "'''\n",
    "Clearing dimension questions https://stackoverflow.com/questions/65034697/transform-rectangle-with-transformation-matrix-python\n",
    "Lines and M could have different dimensions. Thankfully not a Problem here.\n",
    "'''\n",
    "def visualize_transform_2d( ax, M ):\n",
    "    \"\"\"\n",
    "    Visualize the effect of the linear transform described by M on the plot axes ax.\n",
    "    \"\"\" \n",
    "\n",
    "    # initial rectangle and basis for 2D plot.\n",
    "    lines = np.array([[-1, 1, 1, -1, -1], [-1, -1, 1, 1, -1]])\n",
    "    basis = np.array([[1, 0], [0, 1]])\n",
    "    \n",
    "    # transformation.\n",
    "    trans_lines = M @ lines # @ Matrix multiplicator.\n",
    "    trans_basis = M @ basis # represented by arrows.\n",
    "\n",
    "    \n",
    "    ax.plot( trans_lines[0,:], trans_lines[1,:], '-', color=\"gray\" )\n",
    "    ax.arrow( 0, 0, trans_basis[0][0], trans_basis[1][0], color='red', width=.04, length_includes_head=True )\n",
    "    ax.arrow( 0, 0, trans_basis[0][1], trans_basis[1][1], color='gold', width=.04, length_includes_head=True )\n",
    "\n",
    "    # Setting limits for x and y axes.\n",
    "    ax.set_xlim( -5, 5 )\n",
    "    ax.set_ylim( -5, 5 )\n",
    "    ax.grid()\n",
    "    \n",
    "fig, (ax0, ax1) = plt.subplots(1, 2, figsize=(8,4)) # width 8, high 4 inches. (1,2,..) create grid layout of subplots with 1 row and 2 columns.\n",
    "\n",
    "# visualize untransformed geometry\n",
    "I = np.identity(2)   #np.array([[1, 0], [0, 1]])\n",
    "visualize_transform_2d( ax0, I )\n",
    "\n",
    "# visualize transformed geometry. Output because of -1 difference to identity(2).\n",
    "M = np.array([[1, -1], [0, 1]])\n",
    "visualize_transform_2d( ax1, M )\n",
    "\n",
    "# Visualizations of both look the same."
   ]
  },
  {
   "cell_type": "markdown",
   "metadata": {},
   "source": [
    "<div class=\"alert alert-success\">\n",
    "    \n",
    "**Task 2**: Visualize the following types of transforms using the above method:\n",
    "1. A reflection on the $x$-axis (mirroring with respect to $y$ axis).\n",
    "2. A *shear transform*, which is given by matrices of the form $S_a := \\begin{pmatrix} 1 & a \\\\ 0 & 1 \\end{pmatrix}$ for $a > 0$.\n",
    "3. A clockwise rotation around the origin with angle $\\alpha = 45^\\circ$.\n",
    "</div>"
   ]
  },
  {
   "cell_type": "code",
   "execution_count": null,
   "metadata": {},
   "outputs": [],
   "source": [
    "reflection = np.array([[1, 0], [0, -1]]) # Struggels with [[1, 0], [0, 1]]\n",
    "\n",
    "# Test.\n",
    "fig, (ax0) = plt.subplots(1,  figsize=(2,2))\n",
    "reflec = visualize_transform_2d( ax0, reflection)"
   ]
  },
  {
   "cell_type": "code",
   "execution_count": null,
   "metadata": {},
   "outputs": [],
   "source": [
    "shear = np.array([[1, -1], [0, 1]])\n",
    "\n",
    "# Test.\n",
    "fig, (ax0) = plt.subplots(1,  figsize=(2,2))\n",
    "shee = visualize_transform_2d( ax0, shear)"
   ]
  },
  {
   "cell_type": "code",
   "execution_count": null,
   "metadata": {},
   "outputs": [],
   "source": [
    "# clockwise rotation.\n",
    "a = np.radians(-45)\n",
    "rotation = np.array([[np.cos(a), -np.sin(a)], [np.sin(a), np.cos(a)]])\n",
    "\n",
    "# Test.\n",
    "fig, (ax0) = plt.subplots(1,  figsize=(2,2))\n",
    "rotat = visualize_transform_2d( ax0, rotation)"
   ]
  },
  {
   "cell_type": "markdown",
   "metadata": {},
   "source": [
    "<div class=\"alert alert-success\">\n",
    "\n",
    "**Task 3**: Use `visualize_transform_2d` to illustrate that matrix multiplication is -- in general -- not commutative, i.e. \n",
    "\n",
    "$$A\\cdot B \\neq B\\cdot A.$$ \n",
    "for two $2\\times 2$-matrices $A$, $B$. To show this, find two matrices $A$ and $B$ that do not commute, and visualize the respective transforms. You can choose $A$ and $B$ from the transforms in the previous task.\n",
    "<div>"
   ]
  },
  {
   "cell_type": "code",
   "execution_count": null,
   "metadata": {},
   "outputs": [],
   "source": [
    "\"\"\"\n",
    "show that A*B != B*A by using \"visualize_transform_2d\".\n",
    "Our A is reflection and our B is shear. We are going to continue with giving the results:\n",
    "\"\"\"\n",
    "ab = reflection @ shear # Mamma mia, solved with ABBA :D\n",
    "ba = shear @ reflection\n",
    "# Create subplots for the visualizations\n",
    "fig, (ax0, ax1) = plt.subplots(1, 2, figsize=(8, 4))\n",
    "\n",
    "# Visualize shear transformation\n",
    "visualize_transform_2d(ax0, ab)\n",
    "ax0.set_title('A * B')\n",
    "\n",
    "# Visualize reflection transformation\n",
    "visualize_transform_2d(ax1,  ba)\n",
    "ax1.set_title('B * A')\n",
    "\n",
    "plt.tight_layout()\n",
    "plt.show()\n",
    "  \n",
    "print(\"AB:\\n\", ab)\n",
    "print(\"BA:\\n\", ba)"
   ]
  },
  {
   "cell_type": "markdown",
   "metadata": {},
   "source": [
    "- - -"
   ]
  },
  {
   "cell_type": "markdown",
   "metadata": {},
   "source": [
    "Visualizing 3D transforms is more challenging, but can be done in the same way in principle by drawing transformed 3D geometry. Here, we'll use a sphere instead of a rectangle. The sphere points are generated using [polar coordinates](https://en.wikipedia.org/wiki/Spherical_coordinate_system) and drawn using matplotlib's [`surface`](https://matplotlib.org/3.1.1/gallery/mplot3d/surface3d.html) function.\n",
    "\n",
    "Unfortunately, matplotlib does not have nice three-dimensional arrows, so let's stick to lines. To be able to see the basis vector inside the surface, we set the latters to be 90% transparent (the `alpha` parameter indicates opacity, i.e. the surface should be 10% opaque). \n",
    "\n",
    "<div class=\"alert alert-success\">\n",
    "\n",
    "**Task 4:** Modify the function `visualize_transform_3d` below such that it draws the transformed rectangle and basis vectors corresponding to the matrix argument `M`.\n",
    "</div>"
   ]
  },
  {
   "cell_type": "code",
   "execution_count": null,
   "metadata": {},
   "outputs": [],
   "source": [
    "def visualize_transform_3d( ax, M ):\n",
    "    \"\"\"Visualize the effect of the linear transform described by M on the plot axes ax.\"\"\"\n",
    "\n",
    "    # create sphere grid\n",
    "    u, v = np.mgrid[0:2*np.pi:50j, 0:np.pi:50j]\n",
    "    surf = np.stack([np.cos(u)*np.sin(v),np.sin(u)*np.sin(v),np.cos(v)], axis=0).reshape(3,2500)\n",
    "    \n",
    "    # create basis vectors for arrows\n",
    "    basis = np.identity(3)\n",
    "    \n",
    "    # Transform surf and basis using M. Doing the same as above.\n",
    "    trans_surf = M @ surf\n",
    "    trans_basis = M @ basis\n",
    "    \n",
    "    ax.plot_surface( *(trans_surf.reshape(3,50,50)), color=\"gray\", alpha=0.1 )\n",
    "\n",
    "    for i, c in zip([0, 1, 2], ['red', 'gold', 'lightblue']):\n",
    "        ax.plot( [0, trans_basis[0][i]], [0, trans_basis[1][i]], [0, trans_basis[2][i]], '-o', color=c )\n",
    "\n",
    "    ax.set_xlim( -2, 2 )\n",
    "    ax.set_ylim( -2, 2 )\n",
    "    ax.set_zlim( -2, 2 )\n",
    "    \n",
    "    \n",
    "fig, (ax0, ax1) = plt.subplots(1, 2, figsize=(12,6), subplot_kw={'projection': '3d', 'elev': 45})\n",
    "\n",
    "# visualize untransformed geometry\n",
    "I = np.identity(3)   \n",
    "visualize_transform_3d( ax0, I )\n",
    "\n",
    "# visualize transformed geometry\n",
    "M = np.array([[1, -1, 0], [0, 1, 0], [0, 0, 2]]) # Points match the right picture.\n",
    "visualize_transform_3d( ax1, M )"
   ]
  },
  {
   "cell_type": "markdown",
   "metadata": {},
   "source": [
    "Again, it is not too difficult to construct the matrix representation of particular transforms.\n",
    "\n",
    "<div class=\"alert alert-success\">\n",
    "\n",
    "**Task 5:** Construct and visualize the following kinds of 3D linear transformations as matrices:\n",
    "\n",
    "1. A reflection about the origin of the $xy$-plane (leaving the $z$-coordinate unchanged).\n",
    "2. A rotation of angle $\\alpha$ around the $x$-axis (i.e. $x$-coordinates remain unchanged).\n",
    "\n",
    "Note: For both, consider a $2\\times 2$ matrix of the same type for the relevant plane and then fill in an identity column for the unchanged coordinate.\n",
    "</div>"
   ]
  },
  {
   "cell_type": "code",
   "execution_count": null,
   "metadata": {},
   "outputs": [],
   "source": [
    "\"\"\"\n",
    "A reflection about the origin of the xy-plane (leaving the \n",
    "z-coordinate unchanged).\n",
    "Imagine putting a mirror on the z-plane and having the x-plane on the same interface. \n",
    "\"\"\"\n",
    "reflection = np.array([\n",
    "    [-1, 0, 0],\n",
    "    [0, -1, 0],\n",
    "    [0, 0, 1] \n",
    "])\n"
   ]
  },
  {
   "cell_type": "code",
   "execution_count": null,
   "metadata": {},
   "outputs": [],
   "source": [
    "\"\"\"\n",
    "A rotation of angle alpha around the x-axis \n",
    "(i.e. x-coordinates remain unchanged).\n",
    "\"\"\"\n",
    "# Radiant in Grad umwandeln mit:  https://www.mathway.com/de/Trigonometry .\n",
    "alpha = np.pi / 4  # 45 degrees.\n",
    "rotation = np.array([\n",
    "    [1, 0, 0], # x-Achses keeps unchanged.\n",
    "    [0, np.cos(alpha), -np.sin(alpha)], # Rotation in the y-z plane. A lot of eperiments with the trigonometric functions.\n",
    "    [0, np.sin(alpha), np.cos(alpha)]   \n",
    "])\n",
    "\n",
    "# Testing like in Cell 16.\n",
    "fig, (ax0, ax1) = plt.subplots(1, 2, figsize=(12, 6), subplot_kw={'projection': '3d', 'elev': 45})\n",
    "\n",
    "visualize_transform_3d(ax0, reflection)\n",
    "ax0.set_title('reflection about the xy-plane, leaving z-coordinate unchanged.')\n",
    "\n",
    "visualize_transform_3d(ax1, rotation)\n",
    "ax1.set_title(f'Of angle alpha around x-axis, x-coordinates unchanged.')\n",
    "\n",
    "plt.show()\n"
   ]
  },
  {
   "cell_type": "markdown",
   "metadata": {},
   "source": [
    "- - -"
   ]
  },
  {
   "cell_type": "markdown",
   "metadata": {},
   "source": [
    "<div class=\"alert alert-info\">\n",
    "\n",
    "### Cholesky Decomposition\n",
    "</div>"
   ]
  },
  {
   "cell_type": "markdown",
   "metadata": {},
   "source": [
    "As discussed in the course, a linear system with a symmetric positive definite system matrix $A\\in\\mathbb{R}^{n\\times n}$ can be solved using the Cholesky decomposition, which we will try out in the following.\n",
    "\n",
    "First, let's define a function to give us a random $n\\times n$ system matrix $A$ and RHS $b$."
   ]
  },
  {
   "cell_type": "code",
   "execution_count": null,
   "metadata": {},
   "outputs": [],
   "source": [
    "def random_spd_linear_system( n ):\n",
    "\n",
    "    # generate a random RHS\n",
    "    b = 2.0 * np.random.rand(n, 1) - 1.0\n",
    "\n",
    "    # generate a random matrix and RHS\n",
    "    M = 2.0 * np.random.rand(n, n) - 1.0\n",
    "    A = np.matmul(M,np.transpose(M))\n",
    "#     A = np.array([[25,15,-5],[15,18,0],[-5,0,11]]) # A from the lecture example\n",
    "    return A, b\n",
    "    \n",
    "A, b = random_spd_linear_system( 50 )"
   ]
  },
  {
   "cell_type": "markdown",
   "metadata": {},
   "source": [
    "To solve the linear system $A x = b$, we can first perform *Cholesky decomposition* $A= L L^T$, where $L$ is lower triangular, giving two triangular systems\n",
    "\n",
    "$$ L y = b \\qquad\\text{and}\\qquad L^T x = y ,$$ \n",
    "\n",
    "whose solution $x$ is the solution of $Ax = b$.\n",
    "\n",
    "<div class=\"alert alert-success\">\n",
    "    \n",
    "**Task 6:** Complete the function `solve_linear_sytem_cholesky` below to return the solution of $Ax = b$.\n",
    "\n",
    "Steps:\n",
    "1. Compute Cholesky decomposition of $A = L L^T$\n",
    "2. Solve $Ly = b$ using forward substitution.\n",
    "3. Solve $L^Tx = y$ using backward substitution.\n",
    "4. Return $x$ as the solution.\n",
    "\n",
    "Hint: You may use `fwd_subs` and `bwd_subs` from the second Homework. You can check the correctness of your implementation by evaluating the residual vector $r = b-Ax$. \n",
    "</div>"
   ]
  },
  {
   "cell_type": "code",
   "execution_count": null,
   "metadata": {},
   "outputs": [],
   "source": [
    "\"\"\"this is from Homework 2\"\"\"\n",
    "def bwd_subs( U, y ):   # from homework 02\n",
    "    n = len(U)\n",
    "    # To ensure that the matrix is constructed like seen in the output below this cell.\n",
    "    sol = np.empty_like(y, dtype=float)\n",
    "    # range(start, until, steps) iterates over.\n",
    "    for i in range(n-1, -1, -1):\n",
    "        sol[i] = (y[i] - np.dot(U[i,i+1:n], sol[i+1:n]))/U[i,i]# sol[i] = (y[i] - np.dot(U[i, i+1:], sol[i+1:, i])) / U[i, i]\n",
    "    return sol\n",
    "\n",
    "\"\"\"this is from Homework 2\"\"\"\n",
    "def fwd_subs( L, b ):   # from homework 02\n",
    "    \"\"\"Solve the linear system Ly = b with lower triangular matrix L by forward substitution.\"\"\"\n",
    "    y = np.empty_like(b) \n",
    "    n = len(L) #we get the length of L\n",
    "    \n",
    "    for i in range(n): \n",
    "        y[i] = (b[i] - (L[i, :i])@(y[:i])) / L[i, i] # works like bwd_subs, but multiplies the matrices from their first columns up till, but not including the i-th column.\n",
    "            \n",
    "    return y\n",
    "\n",
    "\n",
    "def solve_linear_system_cholesky( A, b ):\n",
    "    \"\"\"Solve Ax = b using Cholesky method.\"\"\"\n",
    "    ls = np.zeros( A.shape )\n",
    "    n = A.shape[0]\n",
    "    A_prime = np.copy(A)\n",
    "#     print(A_prime, \"A' before \\n\")\n",
    "    \n",
    "    #step one\n",
    "    for i in range (n):\n",
    "        ls[i][i] = np.sqrt(A_prime[i][i])\n",
    "        for j in range(i+1, n):\n",
    "            ls[j][i] = A_prime[j][i] / ls[i][i]\n",
    "            \n",
    "        # step two\n",
    "        lu = ls[:,i:i+1] # we take the i-th column of ls, one after the other\n",
    "        lut = np.transpose(lu)\n",
    "        A_prime -= lu@lut\n",
    "        \n",
    "        \n",
    "#     print(A_prime, \"A' at the end  \\n\")\n",
    "    lst = np.transpose(ls) \n",
    "    y = fwd_subs(ls, b)\n",
    "    x = bwd_subs(lst, y)\n",
    "    return x\n",
    "\n",
    "\n",
    "x = solve_linear_system_cholesky( A, b )\n",
    "residual = b-np.matmul(A,x)\n",
    "print(residual)"
   ]
  },
  {
   "cell_type": "code",
   "execution_count": null,
   "metadata": {},
   "outputs": [],
   "source": []
  }
 ],
 "metadata": {
  "kernelspec": {
   "display_name": "Python 3 (ipykernel)",
   "language": "python",
   "name": "python3"
  },
  "language_info": {
   "codemirror_mode": {
    "name": "ipython",
    "version": 3
   },
   "file_extension": ".py",
   "mimetype": "text/x-python",
   "name": "python",
   "nbconvert_exporter": "python",
   "pygments_lexer": "ipython3",
   "version": "3.10.12"
  }
 },
 "nbformat": 4,
 "nbformat_minor": 4
}
