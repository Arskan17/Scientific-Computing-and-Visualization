{
 "cells": [
  {
   "cell_type": "markdown",
   "metadata": {},
   "source": [
    "# 10"
   ]
  },
  {
   "cell_type": "markdown",
   "metadata": {},
   "source": [
    "This part considers finite difference approximations and numerical solutions of ODEs. Lets start with the initializations as usual."
   ]
  },
  {
   "cell_type": "code",
   "execution_count": null,
   "metadata": {},
   "outputs": [],
   "source": [
    "import numpy as np\n",
    "import matplotlib as mpl\n",
    "from matplotlib import pyplot as plt\n",
    "from mpl_toolkits.mplot3d import Axes3D\n",
    "\n",
    "mpl.rcParams['figure.figsize'] = (5.0, 5.0)\n",
    "\n",
    "%matplotlib inline"
   ]
  },
  {
   "cell_type": "markdown",
   "metadata": {},
   "source": [
    "- - -"
   ]
  },
  {
   "cell_type": "markdown",
   "metadata": {},
   "source": [
    "<div class=\"alert alert-info\">\n",
    "    \n",
    "## Finite Difference Approximations\n",
    "</div>"
   ]
  },
  {
   "cell_type": "markdown",
   "metadata": {},
   "source": [
    "For this exercise, we consider the following function $f:\\mathbb{R}^2 \\rightarrow \\mathbb{R}$ defined by\n",
    "\n",
    "$$\n",
    "f(x,y) = \\sin(x+y) + (x-y)^2 -1.5x + 2.5y +1\n",
    "$$\n",
    "\n",
    "As usual we can plot the graph of this function, i.e. the surface over the $(x,y)$-plane whose height is given by $f(x,y)$, over the rectangle $[-2,2]^2$:"
   ]
  },
  {
   "cell_type": "code",
   "execution_count": null,
   "metadata": {},
   "outputs": [],
   "source": [
    "def func(x, y):\n",
    "    \"\"\"evaluate f at (x,y)\"\"\"\n",
    "    return np.sin(x+y) + (x-y)**2 - 1.5*x + 2.5*y+1\n",
    "\n",
    "# define a grid \n",
    "X, Y = np.mgrid[-2:2:100j,-2:2:100j]\n",
    "\n",
    "# make a surface plot of the graph of f\n",
    "fig = plt.figure(figsize=(7,7))\n",
    "ax = fig.add_subplot(111, projection='3d')\n",
    "\n",
    "ax.plot_surface(X, Y, func(X, Y), cmap=\"viridis\"); "
   ]
  },
  {
   "cell_type": "markdown",
   "metadata": {},
   "source": [
    "<div class=\"alert alert-success\">\n",
    "    \n",
    "**Task 1:** Implement a function `gradient` that computes the gradient of the function `func` at $x,y$ using symbolic differentiation rules.\n",
    "</div>"
   ]
  },
  {
   "cell_type": "code",
   "execution_count": null,
   "metadata": {},
   "outputs": [],
   "source": [
    "def gradient(x, y):\n",
    "    \"\"\"evaluate the gradient of f at (x,y)\"\"\"\n",
    "    dx = np.cos(x+y) + 2*(x-y) - 3/2.0\n",
    "    dy = np.cos(y+x) - 2*(x-y) + 5/2.0\n",
    "    \n",
    "    return np.array([dx, dy])"
   ]
  },
  {
   "cell_type": "markdown",
   "metadata": {},
   "source": [
    "In practice, we are rarely in the fortunate situation that finding gradients analytically is feasible and efficient. In these cases, we rather approximate the derivative, e.g. using finite difference approximations."
   ]
  },
  {
   "cell_type": "markdown",
   "metadata": {},
   "source": [
    "<div class=\"alert alert-success\">\n",
    "    \n",
    "**Task 2:** Write the functions `gradient_fd_forward` and `central_fd_central` that compute the gradient of the function `func` at $x,y$ using the forward and centered finite differences with stepsize $h$.\n",
    "</div>"
   ]
  },
  {
   "cell_type": "code",
   "execution_count": null,
   "metadata": {},
   "outputs": [],
   "source": [
    "# from sympy import *\n",
    "# xf = symbols('x')\n",
    "# yf = symbols('y')\n",
    "\n",
    "def gradient_fd_forward(func, x, y, h=0.1):\n",
    "    \"\"\"compute the gradient of func at x,y with forward finite differences of stepsize h\"\"\"\n",
    "    # fdx = ( func(x+(2*h), y) - 2*func(x+h, y) + func(x, y) ) / h**2\n",
    "    # fdy = ( func(x, y+(2*h)) - 2*func(x, y+h) + func(x, y) ) / h**2\n",
    "\n",
    "    # first order accuracy mit O(h)\n",
    "    fdx = (func(x+h, y) - func(x, y)) / h\n",
    "    fdy = (func(x, y+h) - func(x, y)) / h\n",
    "    \n",
    "    return np.array([fdx, fdy])\n",
    "    \n",
    "def central_fd_central(func, x, y, h=0.1):\n",
    "    \"\"\"compute the gradient of func at x,y with centered finite differences of stepsize h\"\"\"\n",
    "    # second order accuracy mit O(h^2)\n",
    "    # fdx = ( func(x+h, y) - 2*func(x, y) + func(x-h, y) ) / h**2\n",
    "    # fdy = ( func(x, y+h) - 2*func(x, y) + func(x, y-h) ) / h**2\n",
    "\n",
    "    fdx = (func(x+h, y) - func(x-h, y)) / h*2\n",
    "    fdy = (func(x, y+h) - func(x, y-h)) / h*2\n",
    "    \n",
    "    return np.array([fdx, fdy])"
   ]
  },
  {
   "cell_type": "markdown",
   "metadata": {},
   "source": [
    "<div class=\"alert alert-success\">\n",
    "    \n",
    "**Task 3:** Compare the analytical gradient (`gradient`) and approximate gradients (`gradient_fd_forward`, `gradient_fd_central`) for three choices of $h \\in \\{ 0.01, 0.1, 0.5 \\}$ using the quiver plots (vector plots).\n",
    "</div>"
   ]
  },
  {
   "cell_type": "code",
   "execution_count": null,
   "metadata": {},
   "outputs": [],
   "source": [
    "# define a grid\n",
    "# x_pts, y_pts = np.mgrid[-5:5:200j,-5:5:200j] # we just used the same grid points as earlier -2:2:100j,-2:2:100j\n",
    "x_pts, y_pts = np.mgrid[-2:2:100j,-2:2:100j]\n",
    "\n",
    "# get the values from calculating the gradient\n",
    "gradient_x, gradient_y = gradient(x_pts, y_pts)\n",
    "# plot function ontop of the contours\n",
    "# plt.contour(x_pts, y_pts, func(x_pts, y_pts))\n",
    "\n",
    "# plot for analytical gradient\n",
    "plt.figure(figsize=(7,7)).add_subplot(111).quiver(x_pts, y_pts, gradient_x, gradient_y, color='y', label='Analytical gradient')\n",
    "plt.legend(loc=(1.01, 0.935))\n",
    "\n",
    "# plot for approximate gradients for three choices of h\n",
    "for h, color in zip([0.01, 0.1, 0.5, 1], ['r', 'g', 'b', 'm']):\n",
    "    fwd_fdx, fwd_fdy = gradient_fd_forward(func, x_pts, y_pts, h)\n",
    "    ctr_fdx, ctr_fdy = central_fd_central(func, x_pts, y_pts, h)\n",
    "    plt.figure(figsize=(7,7)).add_subplot(111).quiver(x_pts, y_pts, fwd_fdx, fwd_fdy, color=color, alpha=0.5, label=f'Gradient_fd_forward, h={h}')\n",
    "    plt.legend(loc=(1.01, 0.935))\n",
    "    plt.figure(figsize=(7,7)).add_subplot(111).quiver(x_pts, y_pts, ctr_fdx, ctr_fdy, color=color, alpha=0.5, label=f'Gradient_fd_central, h={h}')\n",
    "    plt.legend(loc=(1.01, 0.935))\n",
    "\n",
    "# plt.legend(loc=(1.01, 0.61)) # set the legend on the far right\n",
    "plt.show()"
   ]
  },
  {
   "cell_type": "markdown",
   "metadata": {},
   "source": [
    "<div class=\"alert alert-info\">\n",
    "    \n",
    "## Numerical Solution of ODEs: Lotka-Volterra Equations\n",
    "</div>"
   ]
  },
  {
   "cell_type": "markdown",
   "metadata": {},
   "source": [
    "In the lecture, we have seen several numerical methods to solve ODEs. In this exercise, we are going to try them for the Lotka-Volterra equations. These are a system of ODEs that stem from ecology. In the following, we briefly explain the Lotka-Volterra model. \n",
    "\n",
    "The classic Lotka-Volterra model describes the population dynamics involving two species. One species is the prey species (e.g., rabbits) and its population size is represented by the variable $x$. The other species is the predator species (e.g., foxes), whose population size will be represented by $y$. The Lotka-Volterra model is used to predict the population sizes of prey and predator over time.\n",
    "\n",
    "There are three important effects considered in the Lotka-Volterra system. \n",
    "\n",
    "The first effect is reproduction of the prey species. It is assumed that reproduction is proportional to the population, which means that $\\frac{d x}{dt}= \\alpha x$. The variable $\\alpha$ is a positive constant. \n",
    "\n",
    "The second effect is the starvation of the predator species. If there are not adequate amount of preys in the system, some of the predator species will die due to starvation. This is expressed mathematically as $\\frac{d y}{dt}= - \\gamma y$, where $\\gamma$ is another positive constant. \n",
    "\n",
    "According to these two equations, the two species would not interact. Finally, the last effect is the predation, i.e., the consumption of the prey species by the predator species. Note that without predators, the prey population would grow exponentially in time. Therefore, in this model, the predation keeps the prey population in balance. Similarly, without any prey, the predator species would simply die out. The predation effect is modeled by an additional bilinear term for the time derivatives of both the prey and predator population: $\\frac{d x}{dt}$ gets an additional summand $-\\beta xy$ and $\\frac{d y}{dt}$ gets an additional summand $\\delta xy$, where $\\beta$ and $\\delta$ are also positive constants. \n",
    "\n",
    "Taking these three effects into account, the time rate of change in each population can be represented by the following non-linear system of ODEs:\n",
    "\\begin{equation*}\n",
    "\\frac{d x}{dt}  =  \\alpha x -\\beta xy \\quad \\mbox{and} \\quad \\frac{d y}{dt} = - \\gamma y + \\delta xy.\n",
    "\\end{equation*}"
   ]
  },
  {
   "cell_type": "markdown",
   "metadata": {},
   "source": [
    "<div class=\"alert alert-success\">\n",
    "    \n",
    "**Task 4:** Implement a function `solve_Lotka_Volterra_explicit_Euler` that solves the Lotka-Volterra system by using the `explicit Euler method`. The inputs of the function are the initial values $x_0$, $y_0$ and time-step $\\Delta t$. The function should return the solution history in time as the output.\n",
    "\n",
    "Note that, an ODE system $d X/dt = f(X,t),\\; \\mbox{for} \\;  X=(x,y)^\\top$ can be solved by the explicit Euler iterations:\n",
    "\t\\begin{equation*}\n",
    "\tX^{(i+1)}=X^{(i)} + \\Delta t \\cdot f(X^{(i)},t), \\quad i=0,1,2,\\dots, ({T}/{\\Delta t}-1)\n",
    "\t\\end{equation*}\n",
    "\twhere $X^{(i)}$ denotes the approximated state vector $X$ at the discrete time step $t = \\Delta t \\cdot i$. For the example, we take $t_0=0.0$, $T=140.0$, $x(0)=10.0$, $y(0)=10.0$, $\\alpha=0.1$, $\\beta=0.02$, $\\gamma=0.4$, $\\delta=0.02$ and $\\Delta t=0.001$. \n",
    "</div>"
   ]
  },
  {
   "cell_type": "code",
   "execution_count": null,
   "metadata": {},
   "outputs": [],
   "source": [
    "def solve_Lotka_Volterra_explicit_Euler(x_0,y_0,deltat = 0.001):\n",
    "    t_0 = 0.0\n",
    "    T = 140.0\n",
    "    \n",
    "    x0 = [x_0]\n",
    "    y0 = [y_0]\n",
    "    t0 = [t_0]\n",
    "    hist = [(x0,y0,t0)]\n",
    "    \n",
    "    alpha = 0.1\n",
    "    beta = 0.02\n",
    "    gamma = 0.4\n",
    "    delta = 0.02\n",
    "    \n",
    "    time_steps = int(T/deltat)\n",
    "    \n",
    "    for i in range(time_steps):\n",
    "        x = hist[0][0][i]\n",
    "        y = hist[0][1][i]\n",
    "        \n",
    "        # use the explicit Euler method\n",
    "        x = x + deltat * (alpha * x - beta * x * y)\n",
    "        y = y + deltat * (-gamma * y + delta * x * y)\n",
    "        t = deltat * (i+1)\n",
    "        \n",
    "        # add it to the solution history\n",
    "        hist[0][0].append(x)\n",
    "        hist[0][1].append(y)\n",
    "        hist[0][2].append(t)\n",
    "        \n",
    "    return np.array(hist)"
   ]
  },
  {
   "cell_type": "markdown",
   "metadata": {},
   "source": [
    "<div class=\"alert alert-success\">\n",
    "    \n",
    "**Task 5:** Plot the solution history for the prey and predator population in time ($x$ vs. $t$ and $y$ vs. $t$ )\n",
    "</div>"
   ]
  },
  {
   "cell_type": "code",
   "execution_count": null,
   "metadata": {},
   "outputs": [],
   "source": [
    "slv = solve_Lotka_Volterra_explicit_Euler(10, 10, 0.001)\n",
    "x_his = slv[0][0]\n",
    "y_his = slv[0][1]\n",
    "t_his = slv[0][2]\n",
    "\n",
    "plt.figure()\n",
    "\n",
    "plt.plot(t_his, x_his, label='prey (x vs t)')\n",
    "plt.plot(t_his, y_his, label='predators (y vs t)')\n",
    "\n",
    "plt.xlabel('time')\n",
    "plt.ylabel('population')\n",
    "\n",
    "plt.legend()"
   ]
  },
  {
   "cell_type": "markdown",
   "metadata": {},
   "source": [
    "We now try to solve the same ODE system using a slightly different method. "
   ]
  },
  {
   "cell_type": "markdown",
   "metadata": {},
   "source": [
    "<div class=\"alert alert-success\">\n",
    "    \n",
    "**Task 6:** Implement a function `solve_Lotka_Volterra_explicit_Heun` that solves the Lotka-Volterra system by using the `Heun's method`. The inputs of the function are the initial values $x_0,y_0$ and time-step $\\Delta t$. The function should return the solution history in time as the output.\n",
    "\n",
    "</div>"
   ]
  },
  {
   "cell_type": "code",
   "execution_count": null,
   "metadata": {},
   "outputs": [],
   "source": [
    "def solve_Lotka_Volterra_explicit_Heun(x_0,y_0,deltat = 0.001):\n",
    "    t_0 = 0.0\n",
    "    T = 140.0\n",
    "    \n",
    "    x0 = [x_0]\n",
    "    y0 = [y_0]\n",
    "    t0 = [t_0]\n",
    "    hist = [(x0,y0,t0)]\n",
    "       \n",
    "    time_steps = int(T/deltat)\n",
    "    \n",
    "    \n",
    "    # using Heun's method\n",
    "    for i in range(time_steps):\n",
    "        x = hist[0][0][i]\n",
    "        y = hist[0][1][i]\n",
    "        fx = (0.1 * x) - (0.02 * x * y)\n",
    "        fy = (-0.4 * y) + (0.02 * x * y)\n",
    "        \n",
    "        #predictor step\n",
    "        x_predict = x + deltat * fx \n",
    "        y_predict = y + deltat * fy\n",
    "        \n",
    "        fx2 = (0.1 * x_predict) - (0.02 * x_predict * (y_predict+deltat))\n",
    "        fy2 = (-0.4 * y_predict) + (0.02 * (x_predict+deltat) * y_predict)\n",
    "        \n",
    "        #corrector step\n",
    "        x_correct = x + deltat * (fx + fx2)/2\n",
    "        y_correct = y + deltat * (fy + fy2)/2\n",
    "        \n",
    "        t = deltat * (i+1)\n",
    "        \n",
    "        hist[0][0].append(x_correct)\n",
    "        hist[0][1].append(y_correct)\n",
    "        hist[0][2].append(t)\n",
    "    \n",
    "    return np.array(hist)"
   ]
  },
  {
   "cell_type": "markdown",
   "metadata": {},
   "source": [
    "<div class=\"alert alert-success\">\n",
    "    \n",
    "**Task 7:** Plot the solution history for the prey and predator population in time ($x$ vs. $t$ and $y$ vs. $t$). \n",
    "Compare your results with the results that are obtained by the explicit Euler method.\n",
    "</div>"
   ]
  },
  {
   "cell_type": "code",
   "execution_count": null,
   "metadata": {},
   "outputs": [],
   "source": [
    "# plotting the solution using heun's method\n",
    "slvh = solve_Lotka_Volterra_explicit_Heun(10, 10, 0.001)\n",
    "x_hish = slvh[0][0]\n",
    "y_hish = slvh[0][1]\n",
    "t_hish = slvh[0][2]\n",
    "\n",
    "plt.figure()\n",
    "\n",
    "plt.plot(t_hish, x_hish, label='heun: prey')\n",
    "plt.plot(t_hish, y_hish, label='heun: predators')\n",
    "\n",
    "plt.title(\"Heun's method\")\n",
    "plt.xlabel('time')\n",
    "plt.ylabel('population')\n",
    "plt.legend()\n",
    "\n",
    "\n",
    "# plotting euler method\n",
    "slve = solve_Lotka_Volterra_explicit_Euler(10, 10, 0.001)\n",
    "x_hise = slve[0][0]\n",
    "y_hise = slve[0][1]\n",
    "t_hise = slve[0][2]\n",
    "\n",
    "plt.figure()\n",
    "plt.plot(t_hise, x_hise, label='euler: prey')\n",
    "plt.plot(t_hise, y_hise, label='euler: predators')\n",
    "\n",
    "plt.title('Euler method')\n",
    "plt.xlabel('time')\n",
    "plt.ylabel('population')\n",
    "plt.legend()\n",
    "\n",
    "\n",
    "# plotting heun and euler in the same graph\n",
    "plt.figure()\n",
    "plt.plot(t_hish, x_hish, label='heun: prey')\n",
    "plt.plot(t_hish, y_hish, label='heun: predators')\n",
    "plt.plot(t_hise, x_hise, label='euler: prey')\n",
    "plt.plot(t_hise, y_hise, label='euler: predators')\n",
    "\n",
    "plt.title('both methods')\n",
    "plt.xlabel('time')\n",
    "plt.ylabel('population')\n",
    "plt.legend()\n",
    "\n",
    "\n",
    "# plotting the difference of both methods\n",
    "plt.figure()\n",
    "plt.plot(t_hish, t_hish-t_hise, label='difference t')\n",
    "plt.plot(t_hish, x_hish-x_hise, label='difference x')\n",
    "plt.plot(t_hish, y_hish-y_hise, label='difference y')\n",
    "\n",
    "plt.title('difference')\n",
    "plt.xlabel('time')\n",
    "plt.ylabel('difference')\n",
    "plt.legend()\n",
    "\n",
    "\n",
    "# Looking at the plots only, they look exactly the same. However, differences \n",
    "# show when one plots the differences of the different variables. While t \n",
    "# obviously has no differences at all (the used delta_t is the same after all), \n",
    "# x and y show fluctuations (sometimes Euler is bigger, sometimes Heun), which \n",
    "# get stronger with time"
   ]
  },
  {
   "cell_type": "code",
   "execution_count": null,
   "metadata": {},
   "outputs": [],
   "source": []
  }
 ],
 "metadata": {
  "kernelspec": {
   "display_name": "Python 3 (ipykernel)",
   "language": "python",
   "name": "python3"
  },
  "language_info": {
   "codemirror_mode": {
    "name": "ipython",
    "version": 3
   },
   "file_extension": ".py",
   "mimetype": "text/x-python",
   "name": "python",
   "nbconvert_exporter": "python",
   "pygments_lexer": "ipython3",
   "version": "3.10.12"
  }
 },
 "nbformat": 4,
 "nbformat_minor": 4
}
